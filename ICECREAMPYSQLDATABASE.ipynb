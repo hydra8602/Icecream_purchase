{
 "cells": [
  {
   "cell_type": "code",
   "execution_count": 2,
   "id": "0bea37bc",
   "metadata": {},
   "outputs": [],
   "source": [
    "import mysql.connector\n",
    "con=mysql.connector.connect(host=\"localhost\",user=\"root\",password=\"Flight12@\",database=\"shop\")"
   ]
  },
  {
   "cell_type": "code",
   "execution_count": 3,
   "id": "ff4808c5",
   "metadata": {},
   "outputs": [],
   "source": [
    "def insert(customer_id,first_name,Icecream_type,Flavour,quantity,price):\n",
    "    res=con.cursor() #A cursor is needed to execute SQL queries in Python.\n",
    "    #This qry line helps to insert data into the table Icecream \n",
    "    qry=\"insert into Icecream(customer_id,first_name,Icecream_type,Flavour,quantity,price)values(%s,%s,%s,%s,%s,%s)\" \n",
    "    user=(customer_id,first_name,Icecream_type,Flavour,quantity,price) \n",
    "    res.execute(qry,user)\n",
    "    con.commit()\n",
    "    print(\"data insert success1\")"
   ]
  },
  {
   "cell_type": "code",
   "execution_count": 4,
   "id": "70497165",
   "metadata": {},
   "outputs": [
    {
     "name": "stdout",
     "output_type": "stream",
     "text": [
      "data insert success1\n"
     ]
    }
   ],
   "source": [
    "insert(3,\"C\",\"Cassata Roll\",\"Mixed\",1,315)"
   ]
  },
  {
   "cell_type": "code",
   "execution_count": 5,
   "id": "c45f9f39",
   "metadata": {},
   "outputs": [
    {
     "name": "stdout",
     "output_type": "stream",
     "text": [
      "data insert success1\n"
     ]
    }
   ],
   "source": [
    "insert(4,\"D\",\"Cup\",\"Vanilla\",1,10)"
   ]
  },
  {
   "cell_type": "code",
   "execution_count": 6,
   "id": "306e7201",
   "metadata": {},
   "outputs": [
    {
     "name": "stdout",
     "output_type": "stream",
     "text": [
      "data insert success1\n"
     ]
    }
   ],
   "source": [
    "insert(5,\"E\",\"Ball\",\"Chocolate\",2,25)"
   ]
  },
  {
   "cell_type": "code",
   "execution_count": 11,
   "id": "303426dc",
   "metadata": {},
   "outputs": [
    {
     "name": "stdout",
     "output_type": "stream",
     "text": [
      "data insert success1\n"
     ]
    }
   ],
   "source": [
    "insert(6,\"F\",\"Cone\",\"Strawberry\",1,40)"
   ]
  },
  {
   "cell_type": "code",
   "execution_count": 12,
   "id": "cd866406",
   "metadata": {},
   "outputs": [
    {
     "name": "stdout",
     "output_type": "stream",
     "text": [
      "data insert success1\n"
     ]
    }
   ],
   "source": [
    "insert(7,\"G\",\"Stick\",\"Mango\",3,20)"
   ]
  },
  {
   "cell_type": "code",
   "execution_count": 9,
   "id": "e41017cf",
   "metadata": {},
   "outputs": [
    {
     "name": "stdout",
     "output_type": "stream",
     "text": [
      "data insert success1\n"
     ]
    }
   ],
   "source": [
    "insert(8,\"H\",\"Family Pack\",\"Pista\",2,165)"
   ]
  },
  {
   "cell_type": "code",
   "execution_count": 10,
   "id": "eef182f3",
   "metadata": {},
   "outputs": [
    {
     "name": "stdout",
     "output_type": "stream",
     "text": [
      "data insert success1\n"
     ]
    }
   ],
   "source": [
    "insert(9,\"I\",\"Cassata Roll\",\"Mixed\",1,315)"
   ]
  },
  {
   "cell_type": "code",
   "execution_count": 27,
   "id": "89b50759",
   "metadata": {},
   "outputs": [
    {
     "name": "stdout",
     "output_type": "stream",
     "text": [
      "data insert success1\n"
     ]
    }
   ],
   "source": [
    "insert(10,\"J\",\"Cone\",\"Chocolate\",3,40)"
   ]
  },
  {
   "cell_type": "code",
   "execution_count": 18,
   "id": "753e4272",
   "metadata": {},
   "outputs": [
    {
     "name": "stdout",
     "output_type": "stream",
     "text": [
      "data insert success1\n"
     ]
    }
   ],
   "source": [
    "insert(11,\"K\",\"Cup\",\"Strawberry\",3,10)"
   ]
  },
  {
   "cell_type": "code",
   "execution_count": 25,
   "id": "ee271cd0",
   "metadata": {},
   "outputs": [
    {
     "name": "stdout",
     "output_type": "stream",
     "text": [
      "data insert success1\n"
     ]
    }
   ],
   "source": [
    "insert(12,\"K\",\"Cup\",\"Strawberry\",3,10)"
   ]
  },
  {
   "cell_type": "code",
   "execution_count": 36,
   "id": "efc2b80f",
   "metadata": {},
   "outputs": [
    {
     "name": "stdout",
     "output_type": "stream",
     "text": [
      "data insert success1\n"
     ]
    }
   ],
   "source": [
    "insert(13,\"K\",\"Cone\",\"Strawberry\",3,10)"
   ]
  },
  {
   "cell_type": "code",
   "execution_count": 28,
   "id": "ab1b3468",
   "metadata": {},
   "outputs": [],
   "source": [
    "def delete(customer_id):\n",
    "    res=con.cursor()\n",
    "    qry=\"delete from Icecream where customer_id =%s\"\n",
    "    user=(customer_id,)\n",
    "    res.execute(qry,user)\n",
    "    con.commit()\n",
    "    print(\"data delete success1\")"
   ]
  },
  {
   "cell_type": "code",
   "execution_count": 15,
   "id": "fdfb354e",
   "metadata": {},
   "outputs": [
    {
     "name": "stdout",
     "output_type": "stream",
     "text": [
      "data delete success1\n"
     ]
    }
   ],
   "source": [
    "delete(2)"
   ]
  },
  {
   "cell_type": "code",
   "execution_count": 29,
   "id": "0f287dfa",
   "metadata": {},
   "outputs": [
    {
     "name": "stdout",
     "output_type": "stream",
     "text": [
      "data delete success1\n"
     ]
    }
   ],
   "source": [
    "delete(10)"
   ]
  },
  {
   "cell_type": "code",
   "execution_count": 32,
   "id": "cb270486",
   "metadata": {},
   "outputs": [],
   "source": [
    "def updatequantity(customer_id, quantity):\n",
    "    res = con.cursor()\n",
    "    qry = \"UPDATE Icecream SET quantity = %s WHERE customer_id = %s\"\n",
    "    user = (quantity, customer_id)\n",
    "    res.execute(qry, user)\n",
    "    con.commit()\n",
    "    print(\"Data update success\")"
   ]
  },
  {
   "cell_type": "code",
   "execution_count": 8,
   "id": "4be38b70",
   "metadata": {},
   "outputs": [],
   "source": [
    "def updatename(customer_id, Icecream_type, Flavour, price):\n",
    "    res = con.cursor()\n",
    "    qry = \"UPDATE Icecream SET Icecream_type = %s, Flavour = %s, price = %s WHERE customer_id = %s\"\n",
    "    user = (Icecream_type, Flavour, price, customer_id)\n",
    "    res.execute(qry, user)\n",
    "    con.commit()\n",
    "    print(\"Data update success\")"
   ]
  },
  {
   "cell_type": "code",
   "execution_count": 9,
   "id": "409b5688",
   "metadata": {},
   "outputs": [
    {
     "name": "stdout",
     "output_type": "stream",
     "text": [
      "Data update success\n"
     ]
    }
   ],
   "source": [
    "updatename(4,\"Cone\",\"vanilla\",20)"
   ]
  },
  {
   "cell_type": "code",
   "execution_count": 10,
   "id": "c4f9108b",
   "metadata": {},
   "outputs": [],
   "source": [
    "def search_by_customer_id(customer_id):\n",
    "    res = con.cursor()\n",
    "    qry = \"SELECT * FROM Icecream WHERE customer_id = %s\"\n",
    "    user = (customer_id,)\n",
    "    res.execute(qry, user)\n",
    "    result = res.fetchall()\n",
    "    if result:\n",
    "        print(\"Search results:\")\n",
    "        for row in result:\n",
    "            print(row)\n",
    "    else:\n",
    "        print(\"No records found for customer ID:\", customer_id)"
   ]
  },
  {
   "cell_type": "code",
   "execution_count": 11,
   "id": "5214552a",
   "metadata": {},
   "outputs": [
    {
     "name": "stdout",
     "output_type": "stream",
     "text": [
      "Search results:\n",
      "(5, 'E', 'Ball', 'Chocolate', 2, 25)\n"
     ]
    }
   ],
   "source": [
    "search_by_customer_id(5)"
   ]
  },
  {
   "cell_type": "code",
   "execution_count": null,
   "id": "10fc4cb1",
   "metadata": {},
   "outputs": [],
   "source": []
  }
 ],
 "metadata": {
  "kernelspec": {
   "display_name": "Python 3 (ipykernel)",
   "language": "python",
   "name": "python3"
  },
  "language_info": {
   "codemirror_mode": {
    "name": "ipython",
    "version": 3
   },
   "file_extension": ".py",
   "mimetype": "text/x-python",
   "name": "python",
   "nbconvert_exporter": "python",
   "pygments_lexer": "ipython3",
   "version": "3.10.9"
  }
 },
 "nbformat": 4,
 "nbformat_minor": 5
}
